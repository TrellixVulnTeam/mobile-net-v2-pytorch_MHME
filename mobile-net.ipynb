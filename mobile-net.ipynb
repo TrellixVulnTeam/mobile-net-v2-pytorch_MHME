{
 "cells": [
  {
   "cell_type": "markdown",
   "metadata": {
    "colab_type": "text",
    "id": "9mAIcPx8vx22"
   },
   "source": [
    "# Training MobileNetV2 with VOC"
   ]
  },
  {
   "cell_type": "code",
   "execution_count": 0,
   "metadata": {
    "colab": {},
    "colab_type": "code",
    "id": "AzvBIEdlvZjO"
   },
   "outputs": [],
   "source": [
    "import os\n",
    "import numpy as np\n",
    "from torch import nn\n",
    "from torch.utils import data\n",
    "from torchvision import datasets, transforms\n",
    "from tqdm.auto import tqdm\n",
    "from PIL import Image\n",
    "import matplotlib.pyplot as plt\n",
    "\n",
    "%matplotlib inline"
   ]
  },
  {
   "cell_type": "code",
   "execution_count": 1,
   "metadata": {
    "ExecuteTime": {
     "end_time": "2019-03-24T13:37:42.727256Z",
     "start_time": "2019-03-24T13:37:42.626844Z"
    }
   },
   "outputs": [
    {
     "ename": "ModuleNotFoundError",
     "evalue": "No module named 'torch'",
     "output_type": "error",
     "traceback": [
      "\u001b[0;31m---------------------------------------------------------------------------\u001b[0m",
      "\u001b[0;31mModuleNotFoundError\u001b[0m                       Traceback (most recent call last)",
      "\u001b[0;32m<ipython-input-1-65c711f829c1>\u001b[0m in \u001b[0;36m<module>\u001b[0;34m\u001b[0m\n\u001b[0;32m----> 1\u001b[0;31m \u001b[0;32mfrom\u001b[0m \u001b[0mmobilenet\u001b[0m \u001b[0;32mimport\u001b[0m \u001b[0mMobileNetV2\u001b[0m\u001b[0;34m\u001b[0m\u001b[0;34m\u001b[0m\u001b[0m\n\u001b[0m",
      "\u001b[0;32m~/Google Drive/Github/MobileNet/mobilenet.py\u001b[0m in \u001b[0;36m<module>\u001b[0;34m\u001b[0m\n\u001b[0;32m----> 1\u001b[0;31m \u001b[0;32mfrom\u001b[0m \u001b[0mbottleneck\u001b[0m \u001b[0;32mimport\u001b[0m \u001b[0mBottleneck\u001b[0m\u001b[0;34m\u001b[0m\u001b[0;34m\u001b[0m\u001b[0m\n\u001b[0m\u001b[1;32m      2\u001b[0m \u001b[0;32mfrom\u001b[0m \u001b[0mtorch\u001b[0m \u001b[0;32mimport\u001b[0m \u001b[0mnn\u001b[0m\u001b[0;34m\u001b[0m\u001b[0;34m\u001b[0m\u001b[0m\n\u001b[1;32m      3\u001b[0m \u001b[0;34m\u001b[0m\u001b[0m\n\u001b[1;32m      4\u001b[0m \u001b[0;34m\u001b[0m\u001b[0m\n\u001b[1;32m      5\u001b[0m \u001b[0;32mclass\u001b[0m \u001b[0mMobileNetV2\u001b[0m\u001b[0;34m(\u001b[0m\u001b[0mnn\u001b[0m\u001b[0;34m.\u001b[0m\u001b[0mModule\u001b[0m\u001b[0;34m)\u001b[0m\u001b[0;34m:\u001b[0m\u001b[0;34m\u001b[0m\u001b[0;34m\u001b[0m\u001b[0m\n",
      "\u001b[0;32m~/Google Drive/Github/MobileNet/bottleneck.py\u001b[0m in \u001b[0;36m<module>\u001b[0;34m\u001b[0m\n\u001b[0;32m----> 1\u001b[0;31m \u001b[0;32mfrom\u001b[0m \u001b[0mtorch\u001b[0m \u001b[0;32mimport\u001b[0m \u001b[0mnn\u001b[0m\u001b[0;34m\u001b[0m\u001b[0;34m\u001b[0m\u001b[0m\n\u001b[0m\u001b[1;32m      2\u001b[0m \u001b[0;34m\u001b[0m\u001b[0m\n\u001b[1;32m      3\u001b[0m \u001b[0;34m\u001b[0m\u001b[0m\n\u001b[1;32m      4\u001b[0m \u001b[0;32mclass\u001b[0m \u001b[0mBottleneck\u001b[0m\u001b[0;34m(\u001b[0m\u001b[0mnn\u001b[0m\u001b[0;34m.\u001b[0m\u001b[0mModule\u001b[0m\u001b[0;34m)\u001b[0m\u001b[0;34m:\u001b[0m\u001b[0;34m\u001b[0m\u001b[0;34m\u001b[0m\u001b[0m\n\u001b[1;32m      5\u001b[0m     \u001b[0;32mdef\u001b[0m \u001b[0m__init__\u001b[0m\u001b[0;34m(\u001b[0m\u001b[0mself\u001b[0m\u001b[0;34m,\u001b[0m \u001b[0min_channels\u001b[0m\u001b[0;34m,\u001b[0m \u001b[0mout_channels\u001b[0m\u001b[0;34m,\u001b[0m \u001b[0mexpansion\u001b[0m\u001b[0;34m,\u001b[0m \u001b[0mstride\u001b[0m\u001b[0;34m=\u001b[0m\u001b[0;36m1\u001b[0m\u001b[0;34m)\u001b[0m\u001b[0;34m:\u001b[0m\u001b[0;34m\u001b[0m\u001b[0;34m\u001b[0m\u001b[0m\n",
      "\u001b[0;31mModuleNotFoundError\u001b[0m: No module named 'torch'"
     ]
    }
   ],
   "source": [
    "from mobilenet import MobileNetV2"
   ]
  },
  {
   "cell_type": "markdown",
   "metadata": {
    "colab_type": "text",
    "id": "0YqEGiTF-LUa"
   },
   "source": [
    "## Prep the Data"
   ]
  },
  {
   "cell_type": "code",
   "execution_count": 44,
   "metadata": {
    "colab": {
     "base_uri": "https://localhost:8080/",
     "height": 204
    },
    "colab_type": "code",
    "executionInfo": {
     "elapsed": 89397,
     "status": "ok",
     "timestamp": 1553371442537,
     "user": {
      "displayName": "Pedro Prates",
      "photoUrl": "https://lh6.googleusercontent.com/-ogAT-E4sfMA/AAAAAAAAAAI/AAAAAAAAAa4/9MA7SqDoyXw/s64/photo.jpg",
      "userId": "18091520408936459745"
     },
     "user_tz": 180
    },
    "id": "Xl5zKJ4b6RlC",
    "outputId": "b7aa9be9-06f7-4734-e902-a8da1435856c"
   },
   "outputs": [
    {
     "name": "stdout",
     "output_type": "stream",
     "text": [
      "--2019-03-23 20:03:02--  http://image-net.org/imagenet_data/urls/imagenet_fall11_urls.tgz\n",
      "Resolving image-net.org (image-net.org)... 171.64.68.16\n",
      "Connecting to image-net.org (image-net.org)|171.64.68.16|:80... connected.\n",
      "HTTP request sent, awaiting response... 200 OK\n",
      "Length: 350302759 (334M) [application/x-gzip]\n",
      "Saving to: ‘imagenet_fall11_urls.tgz’\n",
      "\n",
      "imagenet_fall11_url 100%[===================>] 334.07M  13.3MB/s    in 30s     \n",
      "\n",
      "2019-03-23 20:04:28 (11.2 MB/s) - ‘imagenet_fall11_urls.tgz’ saved [350302759/350302759]\n",
      "\n"
     ]
    }
   ],
   "source": [
    "!wget http://image-net.org/imagenet_data/urls/imagenet_fall11_urls.tgz"
   ]
  },
  {
   "cell_type": "code",
   "execution_count": 46,
   "metadata": {
    "colab": {
     "base_uri": "https://localhost:8080/",
     "height": 34
    },
    "colab_type": "code",
    "executionInfo": {
     "elapsed": 14968,
     "status": "ok",
     "timestamp": 1553371512458,
     "user": {
      "displayName": "Pedro Prates",
      "photoUrl": "https://lh6.googleusercontent.com/-ogAT-E4sfMA/AAAAAAAAAAI/AAAAAAAAAa4/9MA7SqDoyXw/s64/photo.jpg",
      "userId": "18091520408936459745"
     },
     "user_tz": 180
    },
    "id": "Dd3NgkjCG1lN",
    "outputId": "4099b267-5740-41b0-d5f9-22a2d2509184"
   },
   "outputs": [
    {
     "name": "stdout",
     "output_type": "stream",
     "text": [
      "fall11_urls.txt\n"
     ]
    }
   ],
   "source": [
    "!tar -xvzf imagenet_fall11_urls.tgz"
   ]
  },
  {
   "cell_type": "code",
   "execution_count": 0,
   "metadata": {
    "colab": {
     "base_uri": "https://localhost:8080/",
     "height": 384
    },
    "colab_type": "code",
    "id": "wxhFwpRzKIm5",
    "outputId": "311894e7-2d74-427a-f9c4-1ccda50dd9a2"
   },
   "outputs": [
    {
     "name": "stdout",
     "output_type": "stream",
     "text": [
      "--2019-03-23 20:08:05--  http://image-net.org/archive/words.txt\n",
      "Resolving image-net.org (image-net.org)... 171.64.68.16\n",
      "Connecting to image-net.org (image-net.org)|171.64.68.16|:80... failed: Connection timed out.\n",
      "Retrying.\n",
      "\n",
      "--2019-03-23 20:10:17--  (try: 2)  http://image-net.org/archive/words.txt\n",
      "Connecting to image-net.org (image-net.org)|171.64.68.16|:80... failed: Connection timed out.\n",
      "Retrying.\n",
      "\n",
      "--2019-03-23 20:12:29--  (try: 3)  http://image-net.org/archive/words.txt\n",
      "Connecting to image-net.org (image-net.org)|171.64.68.16|:80... failed: Connection timed out.\n",
      "Retrying.\n",
      "\n",
      "--2019-03-23 20:14:41--  (try: 4)  http://image-net.org/archive/words.txt\n",
      "Connecting to image-net.org (image-net.org)|171.64.68.16|:80... connected.\n",
      "HTTP request sent, awaiting response... Read error (Connection reset by peer) in headers.\n",
      "Retrying.\n",
      "\n",
      "--2019-03-23 20:17:09--  (try: 5)  http://image-net.org/archive/words.txt\n",
      "Connecting to image-net.org (image-net.org)|171.64.68.16|:80... connected.\n",
      "HTTP request sent, awaiting response... "
     ]
    }
   ],
   "source": [
    "!wget http://image-net.org/archive/words.txt"
   ]
  }
 ],
 "metadata": {
  "accelerator": "GPU",
  "colab": {
   "name": "mobile-net.ipynb",
   "provenance": [],
   "toc_visible": true,
   "version": "0.3.2"
  },
  "kernelspec": {
   "display_name": "Python 3",
   "language": "python",
   "name": "python3"
  },
  "language_info": {
   "codemirror_mode": {
    "name": "ipython",
    "version": 3
   },
   "file_extension": ".py",
   "mimetype": "text/x-python",
   "name": "python",
   "nbconvert_exporter": "python",
   "pygments_lexer": "ipython3",
   "version": "3.7.1"
  },
  "latex_envs": {
   "LaTeX_envs_menu_present": true,
   "autoclose": false,
   "autocomplete": true,
   "bibliofile": "biblio.bib",
   "cite_by": "apalike",
   "current_citInitial": 1,
   "eqLabelWithNumbers": true,
   "eqNumInitial": 1,
   "hotkeys": {
    "equation": "Ctrl-E",
    "itemize": "Ctrl-I"
   },
   "labels_anchors": false,
   "latex_user_defs": false,
   "report_style_numbering": false,
   "user_envs_cfg": false
  },
  "varInspector": {
   "cols": {
    "lenName": 16,
    "lenType": 16,
    "lenVar": 40
   },
   "kernels_config": {
    "python": {
     "delete_cmd_postfix": "",
     "delete_cmd_prefix": "del ",
     "library": "var_list.py",
     "varRefreshCmd": "print(var_dic_list())"
    },
    "r": {
     "delete_cmd_postfix": ") ",
     "delete_cmd_prefix": "rm(",
     "library": "var_list.r",
     "varRefreshCmd": "cat(var_dic_list()) "
    }
   },
   "types_to_exclude": [
    "module",
    "function",
    "builtin_function_or_method",
    "instance",
    "_Feature"
   ],
   "window_display": false
  }
 },
 "nbformat": 4,
 "nbformat_minor": 1
}
